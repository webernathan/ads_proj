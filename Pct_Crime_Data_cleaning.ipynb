{
 "cells": [
  {
   "cell_type": "code",
   "execution_count": null,
   "metadata": {
    "collapsed": true
   },
   "outputs": [],
   "source": [
    "import pandas as pd\n",
    "df = pd.read_excel('/Users/Nate/Downloads/non_seven_major_felony-offenses_by_precinct_2000_2015.xls', header=2)\n",
    "\n",
    "pcts = []\n",
    "for row in df['PCT']:\n",
    "    if row > 0:\n",
    "        pct = row\n",
    "    else:\n",
    "        row = pct\n",
    "    pcts.append(row)\n",
    "\n",
    "df['PCT'] = pcts\n",
    "\n",
    "df.dropna().to_csv('PCT_CRIME_DATA.csv')"
   ]
  }
 ],
 "metadata": {
  "anaconda-cloud": {},
  "kernelspec": {
   "display_name": "Python [conda root]",
   "language": "python",
   "name": "conda-root-py"
  },
  "language_info": {
   "codemirror_mode": {
    "name": "ipython",
    "version": 2
   },
   "file_extension": ".py",
   "mimetype": "text/x-python",
   "name": "python",
   "nbconvert_exporter": "python",
   "pygments_lexer": "ipython2",
   "version": "2.7.12"
  }
 },
 "nbformat": 4,
 "nbformat_minor": 1
}
